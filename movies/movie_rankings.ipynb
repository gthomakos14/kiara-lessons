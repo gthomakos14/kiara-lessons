{
 "cells": [
  {
   "cell_type": "code",
   "execution_count": 1,
   "metadata": {},
   "outputs": [],
   "source": [
    "import random\n",
    "import json\n",
    "import pandas as pd\n",
    "import os"
   ]
  },
  {
   "cell_type": "markdown",
   "metadata": {},
   "source": [
    "# Run the below cell to generate top100_scores.json if it does't exist"
   ]
  },
  {
   "cell_type": "code",
   "execution_count": 3,
   "metadata": {},
   "outputs": [],
   "source": [
    "if 'top100_scores.json' not in os.listdir():\n",
    "    with open('top100.txt') as input_file:\n",
    "        from_file = input_file.readlines()\n",
    "        from_file = [i.strip() for i in from_file]\n",
    "\n",
    "    rankings = {k: 1000 for k in from_file}\n",
    "    with open('top100_scores.json', 'w') as output_file:\n",
    "        json.dump(rankings, output_file)"
   ]
  },
  {
   "cell_type": "code",
   "execution_count": 4,
   "metadata": {},
   "outputs": [],
   "source": [
    "file_name = 'top100_scores.json'\n",
    "with open(file_name) as input_file:\n",
    "    movie_dict = json.load(input_file)"
   ]
  },
  {
   "cell_type": "code",
   "execution_count": 3,
   "metadata": {},
   "outputs": [],
   "source": [
    "def update_elo(winner, loser, k=32):\n",
    "    \"\"\"\n",
    "    Updates the ratings of the winner and loser based on the Elo rating system.\n",
    "    :param winner: The movie that won the comparison\n",
    "    :param loser: The movie that lost the comparison\n",
    "    :param k: The constant factor that controls the rate of change of ratings\n",
    "    \"\"\"\n",
    "    expected_winner = 1 / (1 + 10 ** ((movie_dict[loser] - movie_dict[winner]) / 400))\n",
    "    expected_loser = 1 / (1 + 10 ** ((movie_dict[winner] - movie_dict[loser]) / 400))\n",
    "    \n",
    "    movie_dict[winner] += k * (1 - expected_winner)\n",
    "    movie_dict[loser] += k * (0 - expected_loser)\n"
   ]
  },
  {
   "cell_type": "markdown",
   "metadata": {},
   "source": [
    "# This is the cell that does everything. It will display two movies from your list. Choose between the two by entering in either \"1\" or \"2\". Entering \"stop\" will end the loop."
   ]
  },
  {
   "cell_type": "code",
   "execution_count": 21,
   "metadata": {},
   "outputs": [
    {
     "name": "stdout",
     "output_type": "stream",
     "text": [
      "You did it wrong, try it again\n"
     ]
    }
   ],
   "source": [
    "# iterations = 24\n",
    "movies = list(movie_dict.keys())\n",
    "choice = ''\n",
    "while choice != 'stop':\n",
    "    # iterations -= 1\n",
    "\n",
    "    movie1 = random.choice(movies).strip()\n",
    "    movies.remove(movie1)\n",
    "    movie2 = random.choice(movies).strip()\n",
    "\n",
    "    choice = input(f'Choose 1 or 2: {movie1} or {movie2}')\n",
    "    movies.append(movie1)\n",
    "\n",
    "    while choice != 'stop':\n",
    "        if choice == '1':\n",
    "            update_elo(movie1, movie2)\n",
    "        elif choice == '2':\n",
    "            update_elo(movie2, movie1)\n",
    "        else:\n",
    "            print('You did it wrong, try it again')\n",
    "            break\n",
    "        break\n"
   ]
  },
  {
   "cell_type": "markdown",
   "metadata": {},
   "source": [
    "# This cell saves it to the top100_scores file"
   ]
  },
  {
   "cell_type": "code",
   "execution_count": 6,
   "metadata": {},
   "outputs": [],
   "source": [
    "output_json = 'top100_scores.json'\n",
    "with open(output_json, 'w') as output:\n",
    "    json.dump(movie_dict, output)"
   ]
  },
  {
   "cell_type": "markdown",
   "metadata": {},
   "source": [
    "# This lists the top 10 movies and their ratings"
   ]
  },
  {
   "cell_type": "code",
   "execution_count": 7,
   "metadata": {},
   "outputs": [
    {
     "data": {
      "text/html": [
       "<div>\n",
       "<style scoped>\n",
       "    .dataframe tbody tr th:only-of-type {\n",
       "        vertical-align: middle;\n",
       "    }\n",
       "\n",
       "    .dataframe tbody tr th {\n",
       "        vertical-align: top;\n",
       "    }\n",
       "\n",
       "    .dataframe thead th {\n",
       "        text-align: right;\n",
       "    }\n",
       "</style>\n",
       "<table border=\"1\" class=\"dataframe\">\n",
       "  <thead>\n",
       "    <tr style=\"text-align: right;\">\n",
       "      <th></th>\n",
       "      <th>movies</th>\n",
       "      <th>ratings</th>\n",
       "    </tr>\n",
       "  </thead>\n",
       "  <tbody>\n",
       "    <tr>\n",
       "      <th>19</th>\n",
       "      <td>Chinatown</td>\n",
       "      <td>1173.383761</td>\n",
       "    </tr>\n",
       "    <tr>\n",
       "      <th>30</th>\n",
       "      <td>Sunset Blvd</td>\n",
       "      <td>1144.679202</td>\n",
       "    </tr>\n",
       "    <tr>\n",
       "      <th>3</th>\n",
       "      <td>Casablanca</td>\n",
       "      <td>1141.411924</td>\n",
       "    </tr>\n",
       "    <tr>\n",
       "      <th>6</th>\n",
       "      <td>Pulp Fiction</td>\n",
       "      <td>1130.491792</td>\n",
       "    </tr>\n",
       "    <tr>\n",
       "      <th>46</th>\n",
       "      <td>Akira</td>\n",
       "      <td>1117.356611</td>\n",
       "    </tr>\n",
       "    <tr>\n",
       "      <th>5</th>\n",
       "      <td>Good, the Bad, and the Ugly</td>\n",
       "      <td>1113.123423</td>\n",
       "    </tr>\n",
       "    <tr>\n",
       "      <th>8</th>\n",
       "      <td>Seven Samurai</td>\n",
       "      <td>1111.742388</td>\n",
       "    </tr>\n",
       "    <tr>\n",
       "      <th>51</th>\n",
       "      <td>Rashomon</td>\n",
       "      <td>1107.647303</td>\n",
       "    </tr>\n",
       "    <tr>\n",
       "      <th>1</th>\n",
       "      <td>Godfather</td>\n",
       "      <td>1106.647010</td>\n",
       "    </tr>\n",
       "    <tr>\n",
       "      <th>2</th>\n",
       "      <td>2001: A Space Odyssey</td>\n",
       "      <td>1102.268331</td>\n",
       "    </tr>\n",
       "  </tbody>\n",
       "</table>\n",
       "</div>"
      ],
      "text/plain": [
       "                         movies      ratings\n",
       "19                    Chinatown  1173.383761\n",
       "30                  Sunset Blvd  1144.679202\n",
       "3                    Casablanca  1141.411924\n",
       "6                  Pulp Fiction  1130.491792\n",
       "46                        Akira  1117.356611\n",
       "5   Good, the Bad, and the Ugly  1113.123423\n",
       "8                 Seven Samurai  1111.742388\n",
       "51                     Rashomon  1107.647303\n",
       "1                     Godfather  1106.647010\n",
       "2         2001: A Space Odyssey  1102.268331"
      ]
     },
     "execution_count": 7,
     "metadata": {},
     "output_type": "execute_result"
    }
   ],
   "source": [
    "df = pd.DataFrame({'movies': movie_dict.keys(),\n",
    "                   'ratings': movie_dict.values()})\n",
    "df.sort_values('ratings', ascending=False).head(10)"
   ]
  },
  {
   "cell_type": "code",
   "execution_count": null,
   "metadata": {},
   "outputs": [],
   "source": []
  }
 ],
 "metadata": {
  "kernelspec": {
   "display_name": "base",
   "language": "python",
   "name": "python3"
  },
  "language_info": {
   "codemirror_mode": {
    "name": "ipython",
    "version": 3
   },
   "file_extension": ".py",
   "mimetype": "text/x-python",
   "name": "python",
   "nbconvert_exporter": "python",
   "pygments_lexer": "ipython3",
   "version": "3.11.5"
  }
 },
 "nbformat": 4,
 "nbformat_minor": 2
}

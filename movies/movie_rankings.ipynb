{
 "cells": [
  {
   "cell_type": "code",
   "execution_count": 4,
   "metadata": {},
   "outputs": [],
   "source": [
    "import random\n",
    "import json\n",
    "import pandas as pd"
   ]
  },
  {
   "cell_type": "code",
   "execution_count": 2,
   "metadata": {},
   "outputs": [],
   "source": [
    "file_name = '/home/glenn/Desktop/top100_scores.json'\n",
    "with open(file_name) as input_file:\n",
    "    movie_dict = json.load(input_file)"
   ]
  },
  {
   "cell_type": "code",
   "execution_count": 3,
   "metadata": {},
   "outputs": [],
   "source": [
    "def update_elo(winner, loser, k=32):\n",
    "    \"\"\"\n",
    "    Updates the ratings of the winner and loser based on the Elo rating system.\n",
    "    :param winner: The movie that won the comparison\n",
    "    :param loser: The movie that lost the comparison\n",
    "    :param k: The constant factor that controls the rate of change of ratings\n",
    "    \"\"\"\n",
    "    expected_winner = 1 / (1 + 10 ** ((movie_dict[loser] - movie_dict[winner]) / 400))\n",
    "    expected_loser = 1 / (1 + 10 ** ((movie_dict[winner] - movie_dict[loser]) / 400))\n",
    "    \n",
    "    movie_dict[winner] += k * (1 - expected_winner)\n",
    "    movie_dict[loser] += k * (0 - expected_loser)\n"
   ]
  },
  {
   "cell_type": "code",
   "execution_count": 21,
   "metadata": {},
   "outputs": [
    {
     "name": "stdout",
     "output_type": "stream",
     "text": [
      "You did it wrong, try it again\n"
     ]
    }
   ],
   "source": [
    "# iterations = 24\n",
    "movies = list(movie_dict.keys())\n",
    "choice = ''\n",
    "while choice != 'stop':\n",
    "    # iterations -= 1\n",
    "\n",
    "    movie1 = random.choice(movies).strip()\n",
    "    movies.remove(movie1)\n",
    "    movie2 = random.choice(movies).strip()\n",
    "\n",
    "    choice = input(f'Choose 1 or 2: {movie1} or {movie2}')\n",
    "    movies.append(movie1)\n",
    "\n",
    "    while choice != 'stop':\n",
    "        if choice == '1':\n",
    "            update_elo(movie1, movie2)\n",
    "        elif choice == '2':\n",
    "            update_elo(movie2, movie1)\n",
    "        else:\n",
    "            print('You did it wrong, try it again')\n",
    "            break\n",
    "        break\n"
   ]
  },
  {
   "cell_type": "code",
   "execution_count": 25,
   "metadata": {},
   "outputs": [],
   "source": [
    "output_json = '/home/glenn/Desktop/top100_scores.json'\n",
    "with open(output_json, 'w') as output:\n",
    "    json.dump(movie_dict, output)"
   ]
  },
  {
   "cell_type": "code",
   "execution_count": 23,
   "metadata": {},
   "outputs": [
    {
     "data": {
      "text/html": [
       "<div>\n",
       "<style scoped>\n",
       "    .dataframe tbody tr th:only-of-type {\n",
       "        vertical-align: middle;\n",
       "    }\n",
       "\n",
       "    .dataframe tbody tr th {\n",
       "        vertical-align: top;\n",
       "    }\n",
       "\n",
       "    .dataframe thead th {\n",
       "        text-align: right;\n",
       "    }\n",
       "</style>\n",
       "<table border=\"1\" class=\"dataframe\">\n",
       "  <thead>\n",
       "    <tr style=\"text-align: right;\">\n",
       "      <th></th>\n",
       "      <th>movies</th>\n",
       "      <th>ratings</th>\n",
       "    </tr>\n",
       "  </thead>\n",
       "  <tbody>\n",
       "    <tr>\n",
       "      <th>30</th>\n",
       "      <td>Sunset Blvd</td>\n",
       "      <td>1130.835248</td>\n",
       "    </tr>\n",
       "    <tr>\n",
       "      <th>19</th>\n",
       "      <td>Chinatown</td>\n",
       "      <td>1128.962057</td>\n",
       "    </tr>\n",
       "    <tr>\n",
       "      <th>8</th>\n",
       "      <td>Seven Samurai</td>\n",
       "      <td>1106.537765</td>\n",
       "    </tr>\n",
       "    <tr>\n",
       "      <th>46</th>\n",
       "      <td>Akira</td>\n",
       "      <td>1103.581683</td>\n",
       "    </tr>\n",
       "    <tr>\n",
       "      <th>2</th>\n",
       "      <td>2001: A Space Odyssey</td>\n",
       "      <td>1092.202127</td>\n",
       "    </tr>\n",
       "    <tr>\n",
       "      <th>3</th>\n",
       "      <td>Casablanca</td>\n",
       "      <td>1091.935324</td>\n",
       "    </tr>\n",
       "    <tr>\n",
       "      <th>6</th>\n",
       "      <td>Pulp Fiction</td>\n",
       "      <td>1084.588986</td>\n",
       "    </tr>\n",
       "    <tr>\n",
       "      <th>29</th>\n",
       "      <td>M</td>\n",
       "      <td>1083.730804</td>\n",
       "    </tr>\n",
       "    <tr>\n",
       "      <th>42</th>\n",
       "      <td>Eternal Sunshine of the Spotless Mind</td>\n",
       "      <td>1082.119585</td>\n",
       "    </tr>\n",
       "    <tr>\n",
       "      <th>5</th>\n",
       "      <td>Good, the Bad, and the Ugly</td>\n",
       "      <td>1080.194433</td>\n",
       "    </tr>\n",
       "  </tbody>\n",
       "</table>\n",
       "</div>"
      ],
      "text/plain": [
       "                                   movies      ratings\n",
       "30                            Sunset Blvd  1130.835248\n",
       "19                              Chinatown  1128.962057\n",
       "8                           Seven Samurai  1106.537765\n",
       "46                                  Akira  1103.581683\n",
       "2                   2001: A Space Odyssey  1092.202127\n",
       "3                              Casablanca  1091.935324\n",
       "6                            Pulp Fiction  1084.588986\n",
       "29                                      M  1083.730804\n",
       "42  Eternal Sunshine of the Spotless Mind  1082.119585\n",
       "5             Good, the Bad, and the Ugly  1080.194433"
      ]
     },
     "execution_count": 23,
     "metadata": {},
     "output_type": "execute_result"
    }
   ],
   "source": [
    "df = pd.DataFrame({'movies': movie_dict.keys(),\n",
    "                   'ratings': movie_dict.values()})\n",
    "df.sort_values('ratings', ascending=False).head(10)"
   ]
  },
  {
   "cell_type": "code",
   "execution_count": null,
   "metadata": {},
   "outputs": [],
   "source": []
  }
 ],
 "metadata": {
  "kernelspec": {
   "display_name": "base",
   "language": "python",
   "name": "python3"
  },
  "language_info": {
   "codemirror_mode": {
    "name": "ipython",
    "version": 3
   },
   "file_extension": ".py",
   "mimetype": "text/x-python",
   "name": "python",
   "nbconvert_exporter": "python",
   "pygments_lexer": "ipython3",
   "version": "3.11.5"
  }
 },
 "nbformat": 4,
 "nbformat_minor": 2
}
